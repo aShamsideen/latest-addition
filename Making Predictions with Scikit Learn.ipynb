{
 "cells": [
  {
   "cell_type": "markdown",
   "id": "1f437a3a",
   "metadata": {},
   "source": [
    "### Predictiion with Classification Models"
   ]
  },
  {
   "cell_type": "markdown",
   "id": "952a2172",
   "metadata": {},
   "source": [
    "### Multiple Class Prediction"
   ]
  },
  {
   "cell_type": "code",
   "execution_count": 43,
   "id": "11067043",
   "metadata": {},
   "outputs": [
    {
     "name": "stdout",
     "output_type": "stream",
     "text": [
      "X=[-0.79415228  2.10495117], Predicted=0\n",
      "X=[-9.15155186 -4.81286449], Predicted=1\n",
      "X=[-3.10367371  3.90202401], Predicted=0\n",
      "X=[-1.42946517  5.16850105], Predicted=0\n",
      "X=[-7.4693868  -4.20198333], Predicted=1\n",
      "X=[-9.19585147 -3.90678125], Predicted=1\n",
      "X=[-9.31764266 -4.27315015], Predicted=1\n",
      "X=[-9.20490564 -4.57687928], Predicted=1\n",
      "X=[-2.76017908  5.55121358], Predicted=0\n",
      "X=[-1.17104176  4.33091816], Predicted=0\n",
      "X=[-10.03640801  -5.5691209 ], Predicted=1\n",
      "X=[-1.53773863  5.53597378], Predicted=0\n",
      "X=[-10.10815953  -4.57071061], Predicted=1\n",
      "X=[-2.4067182   6.09894447], Predicted=0\n",
      "X=[-7.80701277 -5.84970947], Predicted=1\n",
      "X=[-9.01137732 -3.73981465], Predicted=1\n",
      "X=[-9.76521794 -3.27079714], Predicted=1\n",
      "X=[-2.34673261  3.56128423], Predicted=0\n",
      "X=[-2.00341358  4.45008673], Predicted=0\n",
      "X=[-11.09262435  -3.78396611], Predicted=1\n",
      "X=[-9.43495141 -3.71261146], Predicted=1\n",
      "X=[-10.26393101  -3.920734  ], Predicted=1\n",
      "X=[-9.74891334 -4.2499897 ], Predicted=1\n",
      "X=[-1.34052081  4.15711949], Predicted=0\n",
      "X=[-2.03484486  3.76775946], Predicted=0\n",
      "X=[-10.30782928  -6.38818631], Predicted=1\n",
      "X=[-9.55634806 -4.05350378], Predicted=1\n",
      "X=[-1.35938959  4.05424002], Predicted=0\n",
      "X=[-0.19745197  2.34634916], Predicted=0\n",
      "X=[-9.47713617 -5.09768994], Predicted=1\n",
      "X=[-1.92744799  4.93684534], Predicted=0\n",
      "X=[-2.8020781   4.05714715], Predicted=0\n",
      "X=[-10.51480696  -4.95037538], Predicted=1\n",
      "X=[-1.85139546  3.5188609 ], Predicted=0\n",
      "X=[-8.37006175 -3.61533685], Predicted=1\n",
      "X=[-10.18428228  -4.05509442], Predicted=1\n",
      "X=[-0.46064203  4.59164629], Predicted=0\n",
      "X=[-11.37082982  -3.63818916], Predicted=1\n",
      "X=[-10.17863281  -4.55726918], Predicted=1\n",
      "X=[-10.13415725  -4.07240274], Predicted=1\n",
      "X=[-9.71704743 -4.02646125], Predicted=1\n",
      "X=[-9.64716652 -5.26563196], Predicted=1\n",
      "X=[-1.98197711  4.02243551], Predicted=0\n",
      "X=[-11.22777064  -3.40281105], Predicted=1\n",
      "X=[-1.46126019  4.52549851], Predicted=0\n",
      "X=[-9.46824718 -3.81564734], Predicted=1\n",
      "X=[-0.75796919  4.90898421], Predicted=0\n",
      "X=[0.5260155  3.00999353], Predicted=0\n",
      "X=[-2.77687025  4.64090557], Predicted=0\n",
      "X=[-1.78245013  3.47072043], Predicted=0\n",
      "X=[-1.88188805  4.2057318 ], Predicted=0\n",
      "X=[-9.33866271 -5.58078689], Predicted=1\n",
      "X=[-9.91989138 -3.33496829], Predicted=1\n",
      "X=[-10.3985907   -3.12934293], Predicted=1\n",
      "X=[-1.53940095  5.02369298], Predicted=0\n",
      "X=[-9.50250118 -4.12805171], Predicted=1\n",
      "X=[-2.27956075  5.1045219 ], Predicted=0\n",
      "X=[-8.72395657 -1.9862468 ], Predicted=1\n",
      "X=[-1.61734616  4.98930508], Predicted=0\n",
      "X=[-1.14663009  4.10839703], Predicted=0\n",
      "X=[-1.47299851  4.81654152], Predicted=0\n",
      "X=[-10.64462919  -3.05186166], Predicted=1\n",
      "X=[-9.49452769 -2.66012266], Predicted=1\n",
      "X=[-10.02232946  -4.72851017], Predicted=1\n",
      "X=[-11.85569437  -2.71718452], Predicted=1\n",
      "X=[-8.66625539 -4.24065641], Predicted=1\n",
      "X=[-2.41395785  5.65935802], Predicted=0\n",
      "X=[-11.27027126  -3.63980083], Predicted=1\n",
      "X=[-1.83198811  3.52863145], Predicted=0\n",
      "X=[-1.23606555  4.48382994], Predicted=0\n",
      "X=[-9.59422086 -3.35977002], Predicted=1\n",
      "X=[-9.25715605 -4.90704915], Predicted=1\n",
      "X=[-9.39539322 -3.53306634], Predicted=1\n",
      "X=[-0.82057649  5.33759195], Predicted=0\n",
      "X=[2.42271161e-04 5.14853403e+00], Predicted=0\n",
      "X=[-1.34392496  2.38428865], Predicted=0\n",
      "X=[-9.12882635 -3.20293691], Predicted=1\n",
      "X=[-9.95404351 -4.17966279], Predicted=1\n",
      "X=[-2.18773166  3.33352125], Predicted=0\n",
      "X=[-2.10668847  5.63099757], Predicted=0\n",
      "X=[-0.52793052  5.92630669], Predicted=0\n",
      "X=[-11.19698054  -3.09000323], Predicted=1\n",
      "X=[-1.49952284  5.28265879], Predicted=0\n",
      "X=[-8.0930538  -2.84229185], Predicted=1\n",
      "X=[-2.35122066  4.00973634], Predicted=0\n",
      "X=[-0.52579046  3.3065986 ], Predicted=0\n",
      "X=[-1.46864442  6.50674501], Predicted=0\n",
      "X=[-0.75870396  3.72276201], Predicted=0\n",
      "X=[-1.96576392  5.23446451], Predicted=0\n",
      "X=[-2.33080604  4.39382527], Predicted=0\n",
      "X=[-8.83737393 -3.58385583], Predicted=1\n",
      "X=[-1.60875215  3.76949422], Predicted=0\n",
      "X=[-1.86845414  4.99311306], Predicted=0\n",
      "X=[-2.33022219  4.78405366], Predicted=0\n",
      "X=[-8.8762948  -3.54444801], Predicted=1\n",
      "X=[-8.9588879 -1.7663689], Predicted=1\n",
      "X=[-9.9803031  -5.07536728], Predicted=1\n",
      "X=[-1.37397258  5.29163103], Predicted=0\n",
      "X=[-9.18676083 -2.90890645], Predicted=1\n",
      "X=[0.08525186 3.64528297], Predicted=0\n"
     ]
    }
   ],
   "source": [
    "# Training a final classification model\n",
    "from sklearn.linear_model import LogisticRegression\n",
    "from sklearn.datasets import make_blobs\n",
    "\n",
    "# Generate 2D Classification Dataset\n",
    "x, y = make_blobs(n_samples=100, centers=2, n_features=2, random_state=1)\n",
    "\n",
    "# Finalize Model\n",
    "model = LogisticRegression()\n",
    "model.fit(x, y)\n",
    "\n",
    "# New instance where answer is not known\n",
    "xnew, _ = make_blobs(n_samples=100, centers=2, n_features=2, random_state=1)\n",
    "\n",
    "# Make Prediction\n",
    "ynew = model.predict(xnew)\n",
    "\n",
    "# Show the inputs and Prediction outputs\n",
    "for i in range(len(xnew)):\n",
    "    print('X=%s, Predicted=%s' % (xnew[i], ynew[i]))"
   ]
  },
  {
   "cell_type": "code",
   "execution_count": 41,
   "id": "ac6a181a",
   "metadata": {},
   "outputs": [
    {
     "name": "stdout",
     "output_type": "stream",
     "text": [
      "Precision Score is: 1.0\n",
      "Recall Score is: 1.0\n"
     ]
    }
   ],
   "source": [
    "# Metrics for Checking Prediction Accuracy\n",
    "from sklearn.metrics import precision_score, recall_score\n",
    "print('Precision Score is:', precision_score(ynew, y))\n",
    "print('Recall Score is:', recall_score(ynew, y))"
   ]
  },
  {
   "cell_type": "markdown",
   "id": "a9048d10",
   "metadata": {},
   "source": [
    "### Single Class prediction"
   ]
  },
  {
   "cell_type": "code",
   "execution_count": 44,
   "id": "a6394f6a",
   "metadata": {},
   "outputs": [
    {
     "name": "stdout",
     "output_type": "stream",
     "text": [
      "X=[-0.79415228, 2.10495117], Predicted=0\n"
     ]
    }
   ],
   "source": [
    "# Example of Single Class Prediction\n",
    "from sklearn.linear_model import LogisticRegression\n",
    "from sklearn.datasets import make_blobs\n",
    "\n",
    "# Generate 2D Classification Dataset\n",
    "x, y = make_blobs(n_samples=100, centers=2, n_features=2, random_state=1)\n",
    "\n",
    "# Finalize Model\n",
    "model = LogisticRegression()\n",
    "model.fit(x, y)\n",
    "\n",
    "# Define one new instance\n",
    "xnew = [[-0.79415228, 2.10495117]]\n",
    "\n",
    "# Make Prediction\n",
    "ynew = model.predict(xnew)\n",
    "print('X=%s, Predicted=%s' % (xnew[0], ynew[0]))"
   ]
  },
  {
   "cell_type": "markdown",
   "id": "2b01425c",
   "metadata": {},
   "source": [
    "### Probability Prediction"
   ]
  },
  {
   "cell_type": "code",
   "execution_count": 45,
   "id": "cfbfba5e",
   "metadata": {},
   "outputs": [
    {
     "name": "stdout",
     "output_type": "stream",
     "text": [
      "X=[-0.79415228  2.10495117], Predicted=[0.99467199 0.00532801]\n",
      "X=[-9.15155186 -4.81286449], Predicted=[0.00101412 0.99898588]\n",
      "X=[-3.10367371  3.90202401], Predicted=[0.99193709 0.00806291]\n",
      "X=[-1.42946517  5.16850105], Predicted=[9.99212924e-01 7.87076189e-04]\n",
      "X=[-7.4693868  -4.20198333], Predicted=[0.00623816 0.99376184]\n",
      "X=[-9.19585147 -3.90678125], Predicted=[0.00200228 0.99799772]\n",
      "X=[-9.31764266 -4.27315015], Predicted=[0.00136108 0.99863892]\n",
      "X=[-9.20490564 -4.57687928], Predicted=[0.00117118 0.99882882]\n",
      "X=[-2.76017908  5.55121358], Predicted=[0.99832443 0.00167557]\n",
      "X=[-1.17104176  4.33091816], Predicted=[0.99875793 0.00124207]\n",
      "X=[-10.03640801  -5.5691209 ], Predicted=[2.75949705e-04 9.99724050e-01]\n",
      "X=[-1.53773863  5.53597378], Predicted=[9.99358343e-01 6.41656854e-04]\n",
      "X=[-10.10815953  -4.57071061], Predicted=[5.73834528e-04 9.99426165e-01]\n",
      "X=[-2.4067182   6.09894447], Predicted=[9.99179178e-01 8.20822445e-04]\n",
      "X=[-7.80701277 -5.84970947], Predicted=[0.00130203 0.99869797]\n",
      "X=[-9.01137732 -3.73981465], Predicted=[0.00264455 0.99735545]\n",
      "X=[-9.76521794 -3.27079714], Predicted=[0.00210424 0.99789576]\n",
      "X=[-2.34673261  3.56128423], Predicted=[0.9942075 0.0057925]\n",
      "X=[-2.00341358  4.45008673], Predicted=[0.99780961 0.00219039]\n",
      "X=[-11.09262435  -3.78396611], Predicted=[4.88351923e-04 9.99511648e-01]\n",
      "X=[-9.43495141 -3.71261146], Predicted=[0.00193017 0.99806983]\n",
      "X=[-10.26393101  -3.920734  ], Predicted=[8.47321633e-04 9.99152678e-01]\n",
      "X=[-9.74891334 -4.2499897 ], Predicted=[9.83852536e-04 9.99016147e-01]\n",
      "X=[-1.34052081  4.15711949], Predicted=[0.99836977 0.00163023]\n",
      "X=[-2.03484486  3.76775946], Predicted=[0.99615409 0.00384591]\n",
      "X=[-10.30782928  -6.38818631], Predicted=[1.16355443e-04 9.99883645e-01]\n",
      "X=[-9.55634806 -4.05350378], Predicted=[0.00133911 0.99866089]\n",
      "X=[-1.35938959  4.05424002], Predicted=[0.99820514 0.00179486]\n",
      "X=[-0.19745197  2.34634916], Predicted=[0.99725505 0.00274495]\n",
      "X=[-9.47713617 -5.09768994], Predicted=[6.25026677e-04 9.99374973e-01]\n",
      "X=[-1.92744799  4.93684534], Predicted=[0.99859577 0.00140423]\n",
      "X=[-2.8020781   4.05714715], Predicted=[0.99437612 0.00562388]\n",
      "X=[-10.51480696  -4.95037538], Predicted=[3.07576431e-04 9.99692424e-01]\n",
      "X=[-1.85139546  3.5188609 ], Predicted=[0.99595441 0.00404559]\n",
      "X=[-8.37006175 -3.61533685], Predicted=[0.0048508 0.9951492]\n",
      "X=[-10.18428228  -4.05509442], Predicted=[8.11803400e-04 9.99188197e-01]\n",
      "X=[-0.46064203  4.59164629], Predicted=[9.99425432e-01 5.74568336e-04]\n",
      "X=[-11.37082982  -3.63818916], Predicted=[4.39193400e-04 9.99560807e-01]\n",
      "X=[-10.17863281  -4.55726918], Predicted=[5.48345830e-04 9.99451654e-01]\n",
      "X=[-10.13415725  -4.07240274], Predicted=[8.33341904e-04 9.99166658e-01]\n",
      "X=[-9.71704743 -4.02646125], Predicted=[0.00120397 0.99879603]\n",
      "X=[-9.64716652 -5.26563196], Predicted=[4.78094388e-04 9.99521906e-01]\n",
      "X=[-1.98197711  4.02243551], Predicted=[0.99698268 0.00301732]\n",
      "X=[-11.22777064  -3.40281105], Predicted=[5.92754576e-04 9.99407245e-01]\n",
      "X=[-1.46126019  4.52549851], Predicted=[0.99865849 0.00134151]\n",
      "X=[-9.46824718 -3.81564734], Predicted=[0.00173295 0.99826705]\n",
      "X=[-0.75796919  4.90898421], Predicted=[9.99433587e-01 5.66413285e-04]\n",
      "X=[0.5260155  3.00999353], Predicted=[9.99085164e-01 9.14835500e-04]\n",
      "X=[-2.77687025  4.64090557], Predicted=[0.99651843 0.00348157]\n",
      "X=[-1.78245013  3.47072043], Predicted=[0.99602156 0.00397844]\n",
      "X=[-1.88188805  4.2057318 ], Predicted=[0.99758821 0.00241179]\n",
      "X=[-9.33866271 -5.58078689], Predicted=[4.76338394e-04 9.99523662e-01]\n",
      "X=[-9.91989138 -3.33496829], Predicted=[0.00176904 0.99823096]\n",
      "X=[-10.3985907   -3.12934293], Predicted=[0.00142247 0.99857753]\n",
      "X=[-1.53940095  5.02369298], Predicted=[9.99036899e-01 9.63101479e-04]\n",
      "X=[-9.50250118 -4.12805171], Predicted=[0.00131776 0.99868224]\n",
      "X=[-2.27956075  5.1045219 ], Predicted=[0.99837271 0.00162729]\n",
      "X=[-8.72395657 -1.9862468 ], Predicted=[0.01316224 0.98683776]\n",
      "X=[-1.61734616  4.98930508], Predicted=[0.9989471 0.0010529]\n",
      "X=[-1.14663009  4.10839703], Predicted=[0.99854776 0.00145224]\n",
      "X=[-1.47299851  4.81654152], Predicted=[0.998924 0.001076]\n",
      "X=[-10.64462919  -3.05186166], Predicted=[0.00124361 0.99875639]\n",
      "X=[-9.49452769 -2.66012266], Predicted=[0.00422147 0.99577853]\n",
      "X=[-10.02232946  -4.72851017], Predicted=[5.42343353e-04 9.99457657e-01]\n",
      "X=[-11.85569437  -2.71718452], Predicted=[6.18423227e-04 9.99381577e-01]\n",
      "X=[-8.66625539 -4.24065641], Predicted=[0.00234299 0.99765701]\n",
      "X=[-2.41395785  5.65935802], Predicted=[0.99883166 0.00116834]\n",
      "X=[-11.27027126  -3.63980083], Predicted=[4.75165884e-04 9.99524834e-01]\n",
      "X=[-1.83198811  3.52863145], Predicted=[0.99604671 0.00395329]\n",
      "X=[-1.23606555  4.48382994], Predicted=[0.99884084 0.00115916]\n",
      "X=[-9.59422086 -3.35977002], Predicted=[0.00224689 0.99775311]\n",
      "X=[-9.25715605 -4.90704915], Predicted=[8.65572928e-04 9.99134427e-01]\n",
      "X=[-9.39539322 -3.53306634], Predicted=[0.00229494 0.99770506]\n",
      "X=[-0.82057649  5.33759195], Predicted=[9.99575735e-01 4.24265301e-04]\n",
      "X=[2.42271161e-04 5.14853403e+00], Predicted=[9.99743599e-01 2.56400624e-04]\n",
      "X=[-1.34392496  2.38428865], Predicted=[0.99339149 0.00660851]\n",
      "X=[-9.12882635 -3.20293691], Predicted=[0.00367863 0.99632137]\n",
      "X=[-9.95404351 -4.17966279], Predicted=[8.83531313e-04 9.99116469e-01]\n",
      "X=[-2.18773166  3.33352125], Predicted=[0.99389073 0.00610927]\n",
      "X=[-2.10668847  5.63099757], Predicted=[9.99064161e-01 9.35838753e-04]\n",
      "X=[-0.52793052  5.92630669], Predicted=[9.99788947e-01 2.11052874e-04]\n",
      "X=[-11.19698054  -3.09000323], Predicted=[7.77796361e-04 9.99222204e-01]\n",
      "X=[-1.49952284  5.28265879], Predicted=[9.99239606e-01 7.60393818e-04]\n",
      "X=[-8.0930538  -2.84229185], Predicted=[0.01107459 0.98892541]\n",
      "X=[-2.35122066  4.00973634], Predicted=[0.9959154 0.0040846]\n",
      "X=[-0.52579046  3.3065986 ], Predicted=[0.99833001 0.00166999]\n",
      "X=[-1.46864442  6.50674501], Predicted=[9.99718044e-01 2.81955841e-04]\n",
      "X=[-0.75870396  3.72276201], Predicted=[0.99855325 0.00144675]\n",
      "X=[-1.96576392  5.23446451], Predicted=[0.99885559 0.00114441]\n",
      "X=[-2.33080604  4.39382527], Predicted=[0.99703059 0.00296941]\n",
      "X=[-8.83737393 -3.58385583], Predicted=[0.00343332 0.99656668]\n",
      "X=[-1.60875215  3.76949422], Predicted=[0.99726092 0.00273908]\n",
      "X=[-1.86845414  4.99311306], Predicted=[0.99871833 0.00128167]\n",
      "X=[-2.33022219  4.78405366], Predicted=[0.99781831 0.00218169]\n",
      "X=[-8.8762948  -3.54444801], Predicted=[0.00343396 0.99656604]\n",
      "X=[-8.9588879 -1.7663689], Predicted=[0.01299309 0.98700691]\n",
      "X=[-9.9803031  -5.07536728], Predicted=[4.26313461e-04 9.99573687e-01]\n",
      "X=[-1.37397258  5.29163103], Predicted=[9.99316728e-01 6.83272033e-04]\n",
      "X=[-9.18676083 -2.90890645], Predicted=[0.00442908 0.99557092]\n",
      "X=[0.08525186 3.64528297], Predicted=[9.99213730e-01 7.86269572e-04]\n"
     ]
    }
   ],
   "source": [
    "# Example of making a probability prediction\n",
    "from sklearn.linear_model import LogisticRegression\n",
    "from sklearn.datasets import make_blobs\n",
    "\n",
    "# Generate 2D Classification Dataset\n",
    "x, y = make_blobs(n_samples=100, centers=2, n_features=2, random_state=1)\n",
    "\n",
    "# Fit final Model\n",
    "model = LogisticRegression()\n",
    "model.fit(x, y)\n",
    "\n",
    "# New instances where answer is not known\n",
    "xnew, _ = make_blobs(n_samples=100, centers=2, n_features=2, random_state=1)\n",
    "\n",
    "# Make prediction\n",
    "ynew = model.predict_proba(xnew)\n",
    "for i in range(len(xnew)):\n",
    "    print('X=%s, Predicted=%s' % (xnew[i], ynew[i]))"
   ]
  },
  {
   "cell_type": "markdown",
   "id": "49559783",
   "metadata": {},
   "source": [
    "### Predicting with Regression Models"
   ]
  },
  {
   "cell_type": "markdown",
   "id": "4dd3db0f",
   "metadata": {},
   "source": [
    "### Multiple Regression Prediction"
   ]
  },
  {
   "cell_type": "code",
   "execution_count": 52,
   "id": "c89cac00",
   "metadata": {},
   "outputs": [
    {
     "name": "stdout",
     "output_type": "stream",
     "text": [
      "X=[-1.07296862 -0.52817175], Predicted=-73.6851126618569\n",
      "X=[-0.61175641  1.62434536], Predicted=131.80909182531403\n",
      "X=[-2.3015387   0.86540763], Predicted=22.33906445225677\n"
     ]
    }
   ],
   "source": [
    "# Train a final regression model\n",
    "from sklearn.linear_model import LinearRegression\n",
    "from sklearn.datasets import make_regression\n",
    "\n",
    "# Generate regression dataset\n",
    "x , y = make_regression(n_samples=100, n_features=2, noise=0.1)\n",
    "\n",
    "# Fit final model\n",
    "model = LinearRegression()\n",
    "model.fit(x,y)\n",
    "\n",
    "xnew, _ = make_regression(n_samples=3, n_features=2, noise=0.1, random_state=1)\n",
    "\n",
    "# Make prediciton\n",
    "ynew = model.predict(xnew)\n",
    "for i in range(len(xnew)):\n",
    "    print('X=%s, Predicted=%s' % (xnew[i], ynew[i]))"
   ]
  },
  {
   "cell_type": "markdown",
   "id": "e6873a79",
   "metadata": {},
   "source": [
    "### Single Regression Prediction"
   ]
  },
  {
   "cell_type": "code",
   "execution_count": 53,
   "id": "8efa359c",
   "metadata": {},
   "outputs": [
    {
     "name": "stdout",
     "output_type": "stream",
     "text": [
      "X=[-1.07296862, -0.52817175], Predicted=-46.92835466474899\n"
     ]
    }
   ],
   "source": [
    "# Train a final regression model\n",
    "from sklearn.linear_model import LinearRegression\n",
    "from sklearn.datasets import make_regression\n",
    "\n",
    "# Generate regression dataset\n",
    "x , y = make_regression(n_samples=100, n_features=2, noise=0.1)\n",
    "\n",
    "# Fit final model\n",
    "model = LinearRegression()\n",
    "model.fit(x,y)\n",
    "\n",
    "xnew = [[-1.07296862, -0.52817175]]\n",
    "\n",
    "# Make prediciton\n",
    "ynew = model.predict(xnew)\n",
    "\n",
    "print('X=%s, Predicted=%s' % (xnew[0], ynew[0]))"
   ]
  }
 ],
 "metadata": {
  "kernelspec": {
   "display_name": "Python 3 (ipykernel)",
   "language": "python",
   "name": "python3"
  },
  "language_info": {
   "codemirror_mode": {
    "name": "ipython",
    "version": 3
   },
   "file_extension": ".py",
   "mimetype": "text/x-python",
   "name": "python",
   "nbconvert_exporter": "python",
   "pygments_lexer": "ipython3",
   "version": "3.9.12"
  }
 },
 "nbformat": 4,
 "nbformat_minor": 5
}
